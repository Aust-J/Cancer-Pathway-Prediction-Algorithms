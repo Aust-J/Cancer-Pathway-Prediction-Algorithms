{
 "cells": [
  {
   "cell_type": "code",
   "execution_count": 3,
   "metadata": {},
   "outputs": [],
   "source": [
    "import numpy as np\n",
    "import pandas as pd\n",
    "import matplotlib.pyplot as plt\n",
    "import random\n",
    "from itertools import cycle\n",
    "import sklearn\n",
    "from sklearn import svm, datasets\n",
    "from sklearn.metrics import roc_curve, auc\n",
    "from sklearn.model_selection import train_test_split\n",
    "from sklearn.preprocessing import label_binarize\n",
    "from sklearn.multiclass import OneVsRestClassifier\n",
    "from scipy import interp"
   ]
  },
  {
   "cell_type": "code",
   "execution_count": 4,
   "metadata": {},
   "outputs": [],
   "source": [
    "#read tumor table\n",
    "TumorSample_table = pd.read_csv(\"../EB++AdjustPANCAN_IlluminaHiSeq_RNASeqV2.geneExp.xena\",sep='\\t', index_col=0)\n",
    "TumorSample_table = TumorSample_table.dropna()"
   ]
  },
  {
   "cell_type": "code",
   "execution_count": 5,
   "metadata": {},
   "outputs": [],
   "source": [
    "Pathway_Alteration = pd.read_csv(\"../alterations/genomic_alteration_matrices.Pathway_level.tsv\",sep='\\t', index_col=0)\n",
    "Pathway_Alteration = Pathway_Alteration.dropna()\n",
    "Pathway_Alteration = Pathway_Alteration.astype(int)\n",
    "Pathway_Alteration = Pathway_Alteration.reindex(columns=['Cell_Cycle', 'HIPPO', 'MYC', 'NOTCH', 'NRF2', 'PI3K', 'RTK RAS', 'TGF-Beta', 'TP53',  'WNT'])"
   ]
  },
  {
   "cell_type": "code",
   "execution_count": 6,
   "metadata": {},
   "outputs": [],
   "source": [
    "#read curated pathway templates, descriptions of pathways\n",
    "CELL_CYCLE_Table = pd.read_csv(\"../curated/curated_pathway_templates.Cell_Cycle.tsv\",sep='\\t', index_col=0)\n",
    "HIPPO_Table = pd.read_csv(\"../curated/curated_pathway_templates.HIPPO.tsv\",sep='\\t', index_col=0)\n",
    "MYC_Table = pd.read_csv(\"../curated/curated_pathway_templates.MYC.tsv\",sep='\\t', index_col=0)\n",
    "NOTCH_Table = pd.read_csv(\"../curated/curated_pathway_templates.NOTCH.tsv\",sep='\\t', index_col=0)\n",
    "NRF2_Table = pd.read_csv(\"../curated/curated_pathway_templates.NRF2.tsv\",sep='\\t', index_col=0)\n",
    "PI3K_Table = pd.read_csv(\"../curated/curated_pathway_templates.PI3K.tsv\",sep='\\t', index_col=0)\n",
    "RTK_RAS_Table = pd.read_csv(\"../curated/curated_pathway_templates.RTK_RAS.tsv\",sep='\\t', index_col=0)\n",
    "TGF_BETA_Table = pd.read_csv(\"../curated/curated_pathway_templates.TGF-Beta.tsv\",sep='\\t', index_col=0)\n",
    "TP53_Table = pd.read_csv(\"../curated/curated_pathway_templates.TP53.tsv\",sep='\\t', index_col=0)\n",
    "WNT_Table = pd.read_csv(\"../curated/curated_pathway_templates.WNT.tsv\",sep='\\t', index_col=0)\n",
    "\n",
    "\n",
    "CELL_CYCLE = tuple(set(CELL_CYCLE_Table.index).intersection(set(TumorSample_table.index))) #15 original curated genes, 0 lost due to NA\n",
    "HIPPO  = tuple(set(HIPPO_Table.index).intersection(set(TumorSample_table.index)))          #38 original curated genes,  3 lost due to NA\n",
    "MYC = tuple(set(MYC_Table.index).intersection(set(TumorSample_table.index)))               #13 original curated genes, 1 lost due to NA\n",
    "NOTCH = tuple(set(NOTCH_Table.index).intersection(set(TumorSample_table.index)))           #71 original curated genes, 5 lost due to NA\n",
    "NRF2 = tuple(set(NRF2_Table.index).intersection(set(TumorSample_table.index)))             #3 original curated genes, 0 lost due to NA\n",
    "PI3K = tuple(set(PI3K_Table.index).intersection(set(TumorSample_table.index)))             #29 original curated genes, 1 lost due to NA\n",
    "RTK_RAS = tuple(set(RTK_RAS_Table.index).intersection(set(TumorSample_table.index)))       #84 original curated genes, 5 lost due to NA\n",
    "TGF_BETA = tuple(set(TGF_BETA_Table.index).intersection(set(TumorSample_table.index)))     #7 original curated genes, 0 lost due to NA\n",
    "TP53 = tuple(set(TP53_Table.index).intersection(set(TumorSample_table.index)))             #6 original curated genes, 0 lost due to NA\n",
    "WNT = tuple(set(WNT_Table.index).intersection(set(TumorSample_table.index)))               #68 original curated genes, 10 lost due to NA\n",
    "ALL_PATHWAY_GENES = sum((CELL_CYCLE, HIPPO, MYC, NOTCH, NRF2, PI3K, RTK_RAS, TGF_BETA, TP53, WNT), ())\n",
    "PATHWAYS = [CELL_CYCLE, HIPPO, MYC, NOTCH, NRF2, PI3K, RTK_RAS, TGF_BETA, TP53, WNT]"
   ]
  },
  {
   "cell_type": "code",
   "execution_count": 7,
   "metadata": {},
   "outputs": [],
   "source": [
    "#Paradigm Gene Expression Scores\n",
    "Paradigm_Pathway_Score = pd.read_csv(\"../tcga/TCGA_Tumor_Gene_Expression/paradigm_pathway_activity.txt\", sep=\"\\t\",index_col=0) \n",
    "\n",
    "#Somatic Mutations \n",
    "Somatic_Mutation_Table = pd.read_csv(\"../tcga/TCGA_Tumor_Gene_Expression/somatic_mutation/mc3.v0.2.8.PUBLIC.nonsilentGene.xena\",sep='\\t', index_col=0)\n",
    "Somatic_Mutation_Mapping = pd.read_csv(\"../tcga/TCGA_Tumor_Gene_Expression/somatic_mutation/hugo_gencode_good_hg19_V24lift37_probemap\",sep='\\t', index_col=0)\n",
    "\n",
    "#Copy Number Variance (CNV) tables ## -1 -> deletion, 0 -> normal, 1 -> overexpressed\n",
    "CNV_Threshold = pd.read_csv(\"../tcga/TCGA_Tumor_Gene_Expression/copy_number_variance/CNV_Threshold\",sep='\\t', index_col=0) ## what do 0,1,2 mean\n",
    "\n",
    "#Methylation tables\n",
    "Methylation_Table = pd.read_csv(\"../tcga/TCGA_Tumor_Gene_Expression/methylation/HumanMethylation27\",sep='\\t', index_col=0)\n",
    "ID_Gene_Map_Methylation = pd.read_csv(\"../tcga/TCGA_Tumor_Gene_Expression/methylation/illuminaMethyl27K_hg18_gpl8490_TCGAlegacy\",sep='\\t', index_col=0)"
   ]
  },
  {
   "cell_type": "code",
   "execution_count": 8,
   "metadata": {},
   "outputs": [],
   "source": [
    "def matrix_factorization(R, P, Q, K, steps=5000, alpha=0.0002, beta=0.02):\n",
    "    Q = Q.T\n",
    "    for step in range(steps):\n",
    "        for i in range(len(R)):\n",
    "            for j in range(len(R[i])):\n",
    "                if R[i][j] > 0:\n",
    "                    eij = R[i][j] - np.dot(P[i,:],Q[:,j])           #error term between actual and predicted, initally 0\n",
    "                    for k in range(K):\n",
    "                        #matrix obtained by rate_of_step(alpha) * gradient - regularization(beta term) of constant variables\n",
    "                        P[i][k] = P[i][k] + alpha * (2 * eij * Q[k][j] - beta * P[i][k])  \n",
    "                        Q[k][j] = Q[k][j] + alpha * (2 * eij * P[i][k] - beta * Q[k][j])\n",
    "        eR = np.dot(P,Q)\n",
    "        e = 0\n",
    "        for i in range(len(R)):\n",
    "            for j in range(len(R[i])):\n",
    "                if R[i][j] > 0:\n",
    "                    e = e + pow(R[i][j] - np.dot(P[i,:],Q[:,j]), 2)\n",
    "                    for k in range(K):\n",
    "                        e = e + (beta/2) * ( pow(P[i][k],2) + pow(Q[k][j],2) )\n",
    "        if e < 0.001:\n",
    "            break\n",
    "    return P, Q.T\n",
    "#possibly could improve with weighted alternating least square , regularized $http://ethen8181.github.io/machine-learning/recsys/1_ALSWR.html"
   ]
  },
  {
   "cell_type": "code",
   "execution_count": 9,
   "metadata": {},
   "outputs": [],
   "source": [
    "patients = list(set(CNV_Threshold.columns).intersection(set(TumorSample_table.columns)).intersection(set(Somatic_Mutation_Table.columns)))\n",
    "genes = list(set(ALL_PATHWAY_GENES).intersection(set(CNV_Threshold.index)).intersection(set(TumorSample_table.index)).intersection(set(Somatic_Mutation_Table.index))) \n",
    "\n",
    "TumorSample_table = TumorSample_table.loc[genes,patients] + (CNV_Threshold.loc[genes,patients].T.multiply(np.array(TumorSample_table.loc[genes,patients].std(axis=1)),axis=1)).T + (1 * (Somatic_Mutation_Table.loc[genes,patients].T.multiply(np.array(TumorSample_table.loc[genes,patients].std(axis=1)),axis=1)).T)"
   ]
  },
  {
   "cell_type": "code",
   "execution_count": 10,
   "metadata": {},
   "outputs": [
    {
     "data": {
      "text/plain": [
       "' use expression to get a non binary score, and compare with paradigm'"
      ]
     },
     "execution_count": 10,
     "metadata": {},
     "output_type": "execute_result"
    }
   ],
   "source": [
    "'''benchmark to compare CNV , mutation, versus expression'''\n",
    "\n",
    "'''get mutation algorithm from alana to see if it is useful, driver '''\n",
    "\n",
    "''' use expression to get a non binary score, and compare with paradigm'''"
   ]
  },
  {
   "cell_type": "code",
   "execution_count": null,
   "metadata": {},
   "outputs": [],
   "source": []
  },
  {
   "cell_type": "code",
   "execution_count": null,
   "metadata": {},
   "outputs": [],
   "source": []
  },
  {
   "cell_type": "code",
   "execution_count": 11,
   "metadata": {},
   "outputs": [],
   "source": [
    "#input matrix so if tumor or onco is edited, normalize, consider different threshold for resultant matrix\n",
    "#consider wals-r\n",
    "\n",
    "#patients = set(Pathway_Alteration.index).intersection(set(TumorSample_table.columns))\n",
    "###\n",
    "patients = set(Pathway_Alteration.index).intersection(set(TumorSample_table.columns))\n",
    "\n",
    "###\n",
    "small_patients = random.sample(patients,10)\n",
    "predictions = pd.DataFrame()\n",
    "\n",
    "for pathway in PATHWAYS:\n",
    "    R = np.array(TumorSample_table.loc[pathway,small_patients]) #gene (N) by patient (M)\n",
    "    N = len(pathway) # number gene\n",
    "    M = len(small_patients) # patients\n",
    "    K = 1\n",
    "    P = np.random.rand(N,K)\n",
    "    Q = np.random.rand(M,K)\n",
    "    nP, nQ = matrix_factorization(R, P, Q, K)\n",
    "    nR = np.dot(nP, nQ.T)\n",
    "    predictions = pd.concat([pd.DataFrame(nQ),predictions],axis=1)\n",
    "predictions.columns = ['Cell_Cycle', 'HIPPO', 'MYC', 'NOTCH', 'NRF2', 'PI3K', 'RTK RAS', 'TGF-Beta','TP53',  'WNT']\n",
    "predictions.index = small_patients"
   ]
  },
  {
   "cell_type": "code",
   "execution_count": null,
   "metadata": {},
   "outputs": [],
   "source": []
  },
  {
   "cell_type": "code",
   "execution_count": 12,
   "metadata": {},
   "outputs": [
    {
     "ename": "SyntaxError",
     "evalue": "invalid syntax (<ipython-input-12-946c9f53b910>, line 5)",
     "output_type": "error",
     "traceback": [
      "\u001b[0;36m  File \u001b[0;32m\"<ipython-input-12-946c9f53b910>\"\u001b[0;36m, line \u001b[0;32m5\u001b[0m\n\u001b[0;31m    if predictions.loc[patient, pathway] >  .3#pathway_mean + pathway_sd:\u001b[0m\n\u001b[0m                                                                         ^\u001b[0m\n\u001b[0;31mSyntaxError\u001b[0m\u001b[0;31m:\u001b[0m invalid syntax\n"
     ]
    }
   ],
   "source": [
    "for pathway in predictions.columns:\n",
    "    for patient in predictions.index:\n",
    "        pathway_mean = predictions.loc[:, pathway].mean(axis=0)\n",
    "        pathway_sd = predictions.loc[:, pathway].std(axis=0)\n",
    "        if predictions.loc[patient, pathway] >  .3#pathway_mean + pathway_sd:\n",
    "            predictions.loc[patient, pathway] = 1\n",
    "        else: \n",
    "            predictions.loc[patient, pathway] = 0\n",
    "predictions = predictions.astype(int)"
   ]
  },
  {
   "cell_type": "code",
   "execution_count": null,
   "metadata": {},
   "outputs": [],
   "source": [
    "#predictions.to_csv(sep=\"\\t\", path_or_buf='../temp.tsv')"
   ]
  },
  {
   "cell_type": "code",
   "execution_count": null,
   "metadata": {},
   "outputs": [],
   "source": [
    "((predictions == Pathway_Alteration.loc[small_patients, predictions.columns]).sum().sum())/(len(small_patients)*10)"
   ]
  },
  {
   "cell_type": "code",
   "execution_count": null,
   "metadata": {},
   "outputs": [],
   "source": [
    "from IPython.display import display, HTML\n",
    "\n",
    "\n",
    "# for patient in set(Pathway_Alteration.index).intersection(set(Patient_Pathway_Score_Table.index)):\n",
    "confusion_matrix = pd.DataFrame()    \n",
    "for pathway in Pathway_Alteration.columns:\n",
    "    a = pd.Series(Pathway_Alteration.loc[small_patients,pathway], name='Actual_' + pathway)\n",
    "    b = pd.Series(predictions.loc[small_patients, pathway], name = 'Predicted_' + pathway)\n",
    "    cm = pd.crosstab(a,b,rownames=['Predicted'])\n",
    "    confusion_matrix = pd.concat([cm , confusion_matrix])\n",
    "\n",
    "        \n",
    "confusion_matrix = confusion_matrix.T.set_index(np.repeat('Actual', confusion_matrix.shape[1]), append=True).T\n",
    "pd.concat([confusion_matrix] ,keys=(\"Cell_Cycle\" ,\"HIPPO\", \"MYC\", \"NOTCH\", \"NRF2\", \"PI3K\", \"RTK RAS\", \"TGF-Beta\", \"TP53\", \"WNT\"))    \n",
    "\n",
    "#balanced accuracy, prediction at about 50/50\n",
    "accuracy = pd.DataFrame()\n",
    "accuracy = pd.concat([confusion_matrix.T.apply(lambda x: x/sum(x)).T, accuracy], axis=1)\n",
    "\n",
    "HTML('''\n",
    "        <style>\n",
    "            .accuracy tbody tr:nth-child(even) { background-color: lightblue; }\n",
    "        </style>\n",
    "        ''' + accuracy.to_html(classes=\"accuracy\"))"
   ]
  },
  {
   "cell_type": "code",
   "execution_count": null,
   "metadata": {},
   "outputs": [],
   "source": [
    "#Plot ROC for each pathway\n",
    "n_classes = predictions.columns\n",
    "patients = set(Pathway_Alteration.index).intersection(set(predictions.index))\n",
    "\n",
    "# Compute ROC curve and ROC area for each class\n",
    "fpr = dict()\n",
    "tpr = dict()\n",
    "roc_auc = dict()\n",
    "for i in n_classes:\n",
    "    fpr[i], tpr[i], _ = roc_curve(np.array(Pathway_Alteration.loc[small_patients,i]) , np.array(predictions.loc[:,i]))\n",
    "    roc_auc[i] = auc(fpr[i], tpr[i])\n",
    "\n",
    "# Compute micro-average ROC curve and ROC area\n",
    "fpr[\"micro\"], tpr[\"micro\"], _ = roc_curve(np.array(Pathway_Alteration.loc[small_patients,i]),  np.array(predictions.loc[:,i]).ravel())\n",
    "roc_auc[\"micro\"] = auc(fpr[\"micro\"], tpr[\"micro\"])\n",
    "\n",
    "# Compute macro-average ROC curve and ROC area\n",
    "\n",
    "# First aggregate all false positive rates\n",
    "all_fpr = np.unique(np.concatenate([fpr[i] for i in n_classes]))\n",
    "\n",
    "# Then interpolate all ROC curves at this points\n",
    "mean_tpr = np.zeros_like(all_fpr)\n",
    "for i in n_classes:\n",
    "    mean_tpr += interp(all_fpr, fpr[i], tpr[i])\n",
    "\n",
    "# Finally average it and compute AUC\n",
    "mean_tpr /= len(n_classes)\n",
    "\n",
    "fpr[\"macro\"] = all_fpr\n",
    "tpr[\"macro\"] = mean_tpr\n",
    "roc_auc[\"macro\"] = auc(fpr[\"macro\"], tpr[\"macro\"])\n",
    "\n",
    "# Plot all ROC curves\n",
    "lw = 2\n",
    "\n",
    "plt.figure(figsize=(10, 10))\n",
    "\n",
    "plt.plot(fpr[\"micro\"], tpr[\"micro\"],\n",
    "         label='micro-average ROC curve (area = {0:0.2f})'\n",
    "               ''.format(roc_auc[\"micro\"]),\n",
    "         color='deeppink', linestyle=':', linewidth=4)\n",
    "\n",
    "plt.plot(fpr[\"macro\"], tpr[\"macro\"],\n",
    "         label='macro-average ROC curve (area = {0:0.2f})'\n",
    "               ''.format(roc_auc[\"macro\"]),\n",
    "         color='navy', linestyle=':', linewidth=4)\n",
    "\n",
    "colors = cycle(['aqua', 'darkorange', 'cornflowerblue', 'green', 'magenta', 'black', 'yellow', 'firebrick', 'red', 'pink'])\n",
    "for i, color in zip(n_classes, colors):\n",
    "    plt.plot(fpr[i], tpr[i], color=color, lw=lw,\n",
    "             label='ROC curve of {0} (area = {1:0.2f})'\n",
    "             ''.format(i, roc_auc[i]))\n",
    "\n",
    "plt.plot([0, 1], [0, 1], 'k--', lw=lw)\n",
    "plt.xlim([0.0, 1.0])\n",
    "plt.ylim([0.0, 1.05])\n",
    "plt.xlabel('False Positive Rate')\n",
    "plt.ylabel('True Positive Rate')\n",
    "plt.title('Pathway ROC')\n",
    "plt.legend(loc=\"lower right\")\n",
    "plt.show()"
   ]
  }
 ],
 "metadata": {
  "kernelspec": {
   "display_name": "Python 3",
   "language": "python",
   "name": "python3"
  },
  "language_info": {
   "codemirror_mode": {
    "name": "ipython",
    "version": 3
   },
   "file_extension": ".py",
   "mimetype": "text/x-python",
   "name": "python",
   "nbconvert_exporter": "python",
   "pygments_lexer": "ipython3",
   "version": "3.7.3"
  }
 },
 "nbformat": 4,
 "nbformat_minor": 2
}
